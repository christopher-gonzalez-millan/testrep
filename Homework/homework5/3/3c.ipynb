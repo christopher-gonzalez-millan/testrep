{
 "cells": [
  {
   "cell_type": "code",
   "execution_count": 1,
   "id": "5645b11a-f172-44f6-b059-1dae70953dd5",
   "metadata": {},
   "outputs": [],
   "source": [
    "import numpy as np\n",
    "import math\n",
    "from sympy import Symbol, integrate, exp, oo"
   ]
  },
  {
   "cell_type": "code",
   "execution_count": 4,
   "id": "ad9a286e-299c-4ec5-b3e8-db5bffb89636",
   "metadata": {},
   "outputs": [
    {
     "name": "stdout",
     "output_type": "stream",
     "text": [
      "Gaussian for x = 2: 1.00000000000000\n",
      "Gaussian for x = 4: 6.00000000000000\n",
      "Gaussian for x = 6: 120.000000000000\n",
      "Gaussian for x = 8: 5040.00000000000\n",
      "Gaussian for x = 10: 362880.000000000\n"
     ]
    }
   ],
   "source": [
    "a, b = 0, 30\n",
    "x = Symbol('x')\n",
    "\n",
    "def function(x):\n",
    "    return x**(2 - 1) * math.e**(-x)\n",
    "# find result from sympy\n",
    "exact = integrate(function(x), (x, a, oo))\n",
    "print(\"Gaussian for x = 2: {}\".format(exact))\n",
    "\n",
    "def function(x):\n",
    "    return x**(4 - 1) * math.e**(-x)\n",
    "# find result from sympy\n",
    "exact = integrate(function(x), (x, a, oo))\n",
    "print(\"Gaussian for x = 4: {}\".format(exact))\n",
    "\n",
    "def function(x):\n",
    "    return x**(6 - 1) * math.e**(-x)\n",
    "# find result from sympy\n",
    "exact = integrate(function(x), (x, a, oo))\n",
    "print(\"Gaussian for x = 6: {}\".format(exact))\n",
    "\n",
    "def function(x):\n",
    "    return x**(8 - 1) * math.e**(-x)\n",
    "# find result from sympy\n",
    "exact = integrate(function(x), (x, a, oo))\n",
    "print(\"Gaussian for x = 8: {}\".format(exact))\n",
    "\n",
    "def function(x):\n",
    "    return x**(10 - 1) * math.e**(-x)\n",
    "\n",
    "# find result from sympy\n",
    "exact = integrate(function(x), (x, a, oo))\n",
    "print(\"Gaussian for x = 10: {}\".format(exact))"
   ]
  },
  {
   "cell_type": "code",
   "execution_count": null,
   "id": "38a18826-8464-43cf-8fcb-3cab1c071d1c",
   "metadata": {},
   "outputs": [],
   "source": []
  }
 ],
 "metadata": {
  "kernelspec": {
   "display_name": "Python 3 (ipykernel)",
   "language": "python",
   "name": "python3"
  },
  "language_info": {
   "codemirror_mode": {
    "name": "ipython",
    "version": 3
   },
   "file_extension": ".py",
   "mimetype": "text/x-python",
   "name": "python",
   "nbconvert_exporter": "python",
   "pygments_lexer": "ipython3",
   "version": "3.10.8"
  }
 },
 "nbformat": 4,
 "nbformat_minor": 5
}
