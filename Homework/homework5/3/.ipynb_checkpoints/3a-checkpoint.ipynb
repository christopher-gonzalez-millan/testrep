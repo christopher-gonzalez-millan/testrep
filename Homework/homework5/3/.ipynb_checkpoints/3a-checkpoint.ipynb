{
 "cells": [
  {
   "cell_type": "code",
   "execution_count": 4,
   "id": "5c794d2f-39fa-4af6-a763-822cab2013f5",
   "metadata": {},
   "outputs": [],
   "source": [
    "import numpy as np\n",
    "import scipy.integrate \n",
    "import math\n",
    "import matplotlib.pyplot as plt"
   ]
  },
  {
   "cell_type": "code",
   "execution_count": 5,
   "id": "a5114924-7bab-467d-8363-f38a4f262472",
   "metadata": {},
   "outputs": [],
   "source": [
    "def trapezoidal(f, a, b, n=170):\n",
    "    h = float(b - a) / (n - 1)\n",
    "    \n",
    "    xs = np.linspace(a,b,n)\n",
    "    ws = np.ones(n)\n",
    "    \n",
    "    ws[0] = .5\n",
    "    ws[-1] = .5\n",
    "    return np.dot(f(xs), ws)*h\n",
    "\n",
    "def adaptive_quad(f, a, b, quad_rule, tol=1e-10):\n",
    "    '''\n",
    "    Performs adaptive quadrature for the function f on the interval [a, b]\n",
    "    using the quadrature rule quad_rule. This implementation is intended to\n",
    "    be clear, but is not particularly efficient. For example, if the quadrature\n",
    "    rule evaluates the function at the end points, this algorithm will do so\n",
    "    many times.\n",
    "    '''\n",
    "    Q0 = quad_rule(f, a, b)\n",
    "    return _adaptive_quad_recursion(Q0, f, a, b, quad_rule, tol)\n",
    "    \n",
    "def _adaptive_quad_recursion(Q0, f, a, b, quad_rule, tol):\n",
    "    '''\n",
    "    An internal function (the leading _ denotes a function that is not meant\n",
    "    to be called by the user) to perform the adaptive quadrature recursively. \n",
    "    Any time one ususe recursion, one should consider the possbility of \n",
    "    stack overflow errors.\n",
    "    '''\n",
    "    c = (a+b)/2\n",
    "    Q_left = quad_rule(f, a, c)\n",
    "    Q_right = quad_rule(f, c, b)\n",
    "    if abs(Q0 - (Q_left+Q_right)) < tol:\n",
    "        return Q_left+Q_right, [(a,c), (c,b)]\n",
    "    Q_left, intervals_left = _adaptive_quad_recursion(Q_left, f, a, c, quad_rule, tol)\n",
    "    Q_right, intervals_right = _adaptive_quad_recursion(Q_right, f, c, b, quad_rule, tol)\n",
    "    \n",
    "    return Q_left+Q_right, intervals_left+intervals_right"
   ]
  },
  {
   "cell_type": "code",
   "execution_count": null,
   "id": "e66e6d4b-8dcf-440f-8b88-d8cda453981e",
   "metadata": {},
   "outputs": [],
   "source": [
    "if __name__ == '__main__':\n",
    "    tol = 1e-6\n",
    "    timeout_start = time.time()\n",
    "\n",
    "    for x in range(2, 11, 2):\n",
    "        exactValue = math.factorial(x-1)\n",
    "        i = 0\n",
    "        xaxis = []\n",
    "        yaxis = []\n",
    "        while time.time() < timeout_start + timeout:\n",
    "            a, b = 0, i\n",
    "            f = lambda t: t**(x - 1) * math.e**(-t)\n",
    "        \n",
    "            approximation, intervals = adaptive_quad(f, a, b, trapezoidal, tol=1e-10)\n",
    "            error = abs(exactValue - approximation)\n",
    "            if error < tol:\n",
    "                break\n",
    "            #print(error)\n",
    "            #print(i)\n",
    "            xaxis.append(i)    \n",
    "            yaxis.append(error)   \n",
    "            \n",
    "            i += 1\n",
    "            \n",
    "            \n",
    "        plt.figure()\n",
    "        plt.plot(xaxis, yaxis)\n",
    "        plt.yscale(\"log\")\n",
    "        plt.xlabel('x-axis')\n",
    "        plt.ylabel('y-axis')\n",
    "        plt.title('Error Approximation for x = {} in log scale'.format(x))\n",
    "        plt.show()\n",
    "        timeout_start = time.time()"
   ]
  },
  {
   "cell_type": "code",
   "execution_count": 6,
   "id": "ad1d0f34-d659-4b86-827b-04cb98f9fb29",
   "metadata": {},
   "outputs": [
    {
     "name": "stdout",
     "output_type": "stream",
     "text": [
      "comparison between python gamma and our approximation of 2\n",
      "7.89019960478754e-11\n",
      "\n",
      "\n",
      "comparison between python gamma and our approximation of 4\n",
      "1.7282628661519084e-09\n",
      "\n",
      "\n",
      "comparison between python gamma and our approximation of 6\n",
      "2.7056495923716284e-06\n",
      "\n",
      "\n",
      "comparison between python gamma and our approximation of 8\n",
      "0.0026377931608294602\n",
      "\n",
      "\n",
      "comparison between python gamma and our approximation of 10\n",
      "2.584340921661351\n",
      "\n",
      "\n"
     ]
    }
   ],
   "source": [
    "if __name__ == '__main__':\n",
    "\n",
    "    for x in range(2, 11, 2):\n",
    "        print(\"comparison between python gamma and our approximation of {}\".format(x))\n",
    "        exactValue = math.gamma(x)\n",
    "\n",
    "        a, b = 0, 30\n",
    "        f = lambda t: t**(x - 1) * math.e**(-t)\n",
    "        \n",
    "        approximation, intervals = adaptive_quad(f, a, b, trapezoidal, tol=1e-10)\n",
    "        error = abs(exactValue - approximation)\n",
    "\n",
    "        print(error)\n",
    "        print(\"\\n\")"
   ]
  },
  {
   "cell_type": "code",
   "execution_count": null,
   "id": "9c093a29-6359-4c5c-be7a-0925cd3421d3",
   "metadata": {},
   "outputs": [],
   "source": []
  }
 ],
 "metadata": {
  "kernelspec": {
   "display_name": "Python 3 (ipykernel)",
   "language": "python",
   "name": "python3"
  },
  "language_info": {
   "codemirror_mode": {
    "name": "ipython",
    "version": 3
   },
   "file_extension": ".py",
   "mimetype": "text/x-python",
   "name": "python",
   "nbconvert_exporter": "python",
   "pygments_lexer": "ipython3",
   "version": "3.10.8"
  }
 },
 "nbformat": 4,
 "nbformat_minor": 5
}
