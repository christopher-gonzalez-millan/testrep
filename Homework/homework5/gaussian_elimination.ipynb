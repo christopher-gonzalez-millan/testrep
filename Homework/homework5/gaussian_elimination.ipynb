{
 "cells": [
  {
   "cell_type": "code",
   "execution_count": 1,
   "id": "89d49167-58a9-4fb2-bc5f-7567f3af1895",
   "metadata": {},
   "outputs": [],
   "source": [
    "import numpy as np\n",
    "import math\n",
    "n = 3"
   ]
  },
  {
   "cell_type": "code",
   "execution_count": 2,
   "id": "06bea9a7-2970-4f20-b63f-e7468aaf17c3",
   "metadata": {},
   "outputs": [],
   "source": [
    "def forward_elimination(A, b, n, pivot=False):\n",
    "    \"\"\"\n",
    "    Calculates the forward part of Gaussian elimination.\n",
    "    \"\"\"\n",
    "    for row in range(0, n-1):\n",
    "        if pivot:\n",
    "            if np.abs(A[row,row]) == 0:\n",
    "                for k in range(i+1,n):\n",
    "                    if np.abs(A[k,i])>np.abs(A[i,i]):\n",
    "                        A[[i,k]]=A[[k,i]]             # Swaps ith and kth rows to each other\n",
    "                        f[[i,k]]=f[[k,i]]\n",
    "                        break\n",
    "        \n",
    "        for i in range(row+1, n):\n",
    "            factor = np.round(A[i,row] / A[row,row], n)\n",
    "            for j in range(row, n):\n",
    "                A[i,j] = np.round(A[i,j] - factor * A[row,j], n)\n",
    "\n",
    "            b[i] = np.round(b[i] - factor * b[row],n)\n",
    "\n",
    "        print('A = \\n%s and b = %s' % (A,b))\n",
    "    return A, b\n",
    "\n",
    "def back_substitution(a, b, n):\n",
    "    \"\"\"\"\n",
    "    Does back substitution, returns the Gauss result.\n",
    "    \"\"\"\n",
    "    x = np.zeros((n,1))\n",
    "    x[n-1] = np.round(b[n-1] / a[n-1, n-1], n)\n",
    "    for row in range(n-2, -1, -1):\n",
    "        sums = b[row]\n",
    "        for j in range(row+1, n):\n",
    "            sums = np.round(sums - a[row,j] * x[j],n)\n",
    "        x[row] = np.round(sums / a[row,row],n)\n",
    "    return x\n",
    "\n",
    "def gauss(A, b, pivot=False):\n",
    "    \"\"\"\n",
    "    This function performs Gauss elimination without pivoting.\n",
    "    \"\"\"\n",
    "    n = A.shape[0]\n",
    "\n",
    "    # Check for zero diagonal elements\n",
    "    if any(np.diag(A)==0):\n",
    "        raise ZeroDivisionError(('Division by zero will occur; '\n",
    "                                  'pivoting currently not supported'))\n",
    "\n",
    "    A, b = forward_elimination(A, b, n, pivot)\n",
    "    return back_substitution(A, b, n)"
   ]
  },
  {
   "cell_type": "code",
   "execution_count": 7,
   "id": "c159a8eb-df94-4961-a0cf-e24220db6e63",
   "metadata": {},
   "outputs": [
    {
     "name": "stdout",
     "output_type": "stream",
     "text": [
      "A = \n",
      "[[ 6.000e+00  2.000e+00  2.000e+00]\n",
      " [ 2.000e-03  1.000e-03 -3.330e-01]\n",
      " [-2.000e-03  1.666e+00 -1.334e+00]] and b = [[-2]\n",
      " [ 1]\n",
      " [ 0]]\n",
      "A = \n",
      "[[ 6.00000e+00  2.00000e+00  2.00000e+00]\n",
      " [ 2.00000e-03  1.00000e-03 -3.33000e-01]\n",
      " [-2.00000e-03  0.00000e+00  5.53444e+02]] and b = [[   -2]\n",
      " [    1]\n",
      " [-1666]]\n",
      "[[ 1.337]\n",
      " [-2.   ]\n",
      " [-3.01 ]]\n",
      "\n",
      "\n",
      "A = \n",
      "[[ 6.00000e+00  2.00000e+00  2.00000e+00]\n",
      " [ 2.00000e-03  1.00000e-03 -3.33000e-01]\n",
      " [-2.00000e-03  0.00000e+00  5.53444e+02]] and b = [[   -2]\n",
      " [    1]\n",
      " [-1666]]\n",
      "A = \n",
      "[[ 6.00000e+00  2.00000e+00  2.00000e+00]\n",
      " [ 2.00000e-03  1.00000e-03 -3.33000e-01]\n",
      " [-2.00000e-03  0.00000e+00  5.53444e+02]] and b = [[   -2]\n",
      " [    1]\n",
      " [-1666]]\n",
      "[[ 1.337]\n",
      " [-2.   ]\n",
      " [-3.01 ]]\n"
     ]
    }
   ],
   "source": [
    "A = np.array([[6 , 2, 2],\n",
    "     [2, round(2/3, n), round(1/3, n)],\n",
    "     [1, 2, -1]])\n",
    "B = np.array([[-2],\n",
    "    [1],\n",
    "    [0]])\n",
    "print(gauss(A,B))\n",
    "print('\\n')\n",
    "print(gauss(A,B,pivot=True))"
   ]
  },
  {
   "cell_type": "code",
   "execution_count": null,
   "id": "cad99a21-5aee-406b-9727-233395d2b3e1",
   "metadata": {},
   "outputs": [],
   "source": []
  }
 ],
 "metadata": {
  "kernelspec": {
   "display_name": "Python 3 (ipykernel)",
   "language": "python",
   "name": "python3"
  },
  "language_info": {
   "codemirror_mode": {
    "name": "ipython",
    "version": 3
   },
   "file_extension": ".py",
   "mimetype": "text/x-python",
   "name": "python",
   "nbconvert_exporter": "python",
   "pygments_lexer": "ipython3",
   "version": "3.10.8"
  }
 },
 "nbformat": 4,
 "nbformat_minor": 5
}
