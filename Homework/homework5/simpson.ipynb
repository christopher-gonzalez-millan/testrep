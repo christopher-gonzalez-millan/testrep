{
 "cells": [
  {
   "cell_type": "code",
   "execution_count": 6,
   "id": "d1e56289-b117-47cf-b134-e9d39f21cf57",
   "metadata": {},
   "outputs": [],
   "source": [
    "import numpy as np"
   ]
  },
  {
   "cell_type": "code",
   "execution_count": 7,
   "id": "32f47098-1c20-4a03-9869-f2b9b4d01fda",
   "metadata": {},
   "outputs": [],
   "source": [
    "def simpsons(f, a, b, n=5):\n",
    "    h = float(b - a) / (n - 1)\n",
    "    xs = np.linspace(a,b,n)\n",
    "    ws = np.ones(n)\n",
    "    ws[1::2] = 4\n",
    "    ws[2:-1:2] = 2\n",
    "    ws = ws / 3\n",
    "    return np.dot(f(xs), ws)*h\n",
    "\n",
    "def f(x):\n",
    "    return np.cos(1/x) * x"
   ]
  },
  {
   "cell_type": "code",
   "execution_count": 9,
   "id": "b487f635-a0c5-443f-8ded-c59c3e3586ca",
   "metadata": {},
   "outputs": [
    {
     "name": "stdout",
     "output_type": "stream",
     "text": [
      "simpsons approximation is:  0.014685380697135058\n"
     ]
    }
   ],
   "source": [
    "if __name__ == '__main__':\n",
    "    a, b = 0.0000000000001, 1\n",
    "    f = np.vectorize(f)\n",
    "    print('simpsons approximation is: ', simpsons(f, a, b, n=5))"
   ]
  },
  {
   "cell_type": "code",
   "execution_count": null,
   "id": "e626d27b-d40f-4769-83ab-108edb5aee80",
   "metadata": {},
   "outputs": [],
   "source": []
  }
 ],
 "metadata": {
  "kernelspec": {
   "display_name": "Python 3 (ipykernel)",
   "language": "python",
   "name": "python3"
  },
  "language_info": {
   "codemirror_mode": {
    "name": "ipython",
    "version": 3
   },
   "file_extension": ".py",
   "mimetype": "text/x-python",
   "name": "python",
   "nbconvert_exporter": "python",
   "pygments_lexer": "ipython3",
   "version": "3.10.8"
  }
 },
 "nbformat": 4,
 "nbformat_minor": 5
}
